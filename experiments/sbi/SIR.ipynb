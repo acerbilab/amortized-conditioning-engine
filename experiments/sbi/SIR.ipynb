{
 "cells": [
  {
   "cell_type": "markdown",
   "id": "957bea34-9a48-48fd-8f3f-442a3d0e3f72",
   "metadata": {},
   "source": [
    "# Simulation-based inference with ACE\n",
    "## SIR task\n",
    "\n",
    "To run this evaluation notebook, please move the notebook to the outside folder under `amortized-conditioning-engine/`, we saved the trained models under `results/sir` for standard task and `results/sir_pi` for ACE with prior injection."
   ]
  },
  {
   "cell_type": "code",
   "execution_count": 2,
   "id": "981a1991-eab0-472a-8838-cce4e64dbc04",
   "metadata": {},
   "outputs": [
    {
     "name": "stdout",
     "output_type": "stream",
     "text": [
      "The autoreload extension is already loaded. To reload it, use:\n",
      "  %reload_ext autoreload\n"
     ]
    }
   ],
   "source": [
    "import sys\n",
    "import os\n",
    "\n",
    "import hydra\n",
    "import matplotlib.pyplot as plt\n",
    "import torch\n",
    "from torch.distributions import Uniform, Binomial, LogNormal\n",
    "from hydra import initialize, compose\n",
    "from src.model.base import BaseTransformer\n",
    "from src.dataset.sampler_joint import Sampler\n",
    "from src.dataset.sampler_twoway import Sampler as Sampler_base\n",
    "from src.dataset.sbi.sir import SIR, SIROnline, SIROnlineAll, SIROnlineSamePrior\n",
    "\n",
    "import pickle\n",
    "import seaborn as sns\n",
    "import sbi\n",
    "from sbi.utils.torchutils import *\n",
    "from sbi.utils import process_prior\n",
    "from sbi.utils.user_input_checks import *\n",
    "from sbi_demo_utils import *\n",
    "from attrdict import AttrDict\n",
    "import pandas as pd\n",
    "from scipy.interpolate import make_interp_spline, BSpline\n",
    "import warnings\n",
    "warnings.filterwarnings('ignore')\n",
    "\n",
    "%load_ext autoreload\n",
    "%autoreload 2\n",
    "\n",
    "update_plot_style()\n",
    "\n",
    "plt.rcParams['text.latex.preamble'] = r'\\usepackage{times}'"
   ]
  },
  {
   "cell_type": "code",
   "execution_count": 3,
   "id": "83d2a3f1-e140-40a8-bfc1-5f44254824cc",
   "metadata": {},
   "outputs": [],
   "source": [
    "class SIR_npe(object):\n",
    "    def __init__(self, total_count=1000, T=160):\n",
    "        self.prior = [Uniform(0.01 * torch.ones(1), 1.5 * torch.ones(1)),\n",
    "                     Uniform(0.02 * torch.ones(1), 0.25 * torch.ones(1))]\n",
    "        self.total_count = total_count  # The maximum number of samples for binomial sampling\n",
    "        self.T = T  # The total number of time steps\n",
    "\n",
    "    def sample_theta(self, size):\n",
    "        beta = self.prior[0].sample(size).reshape(-1, 1)\n",
    "        gamma = self.prior[1].sample(size).reshape(-1, 1)\n",
    "        \n",
    "        return torch.cat([beta, gamma], dim=1)\n",
    "\n",
    "    def __call__(self, thetas):\n",
    "        beta = thetas[0]\n",
    "        gamma = thetas[1]\n",
    "        S0, I0, R0 = 999999, 1, 0  # Initial conditions\n",
    "\n",
    "        N_total = S0 + I0 + R0\n",
    "\n",
    "        S = torch.zeros(self.T)\n",
    "        I = torch.zeros(self.T)\n",
    "        R = torch.zeros(self.T)\n",
    "\n",
    "        S[0], I[0], R[0] = S0, I0, R0\n",
    "\n",
    "        # Simulate the SIR model dynamics\n",
    "        for t in range(1, self.T):\n",
    "            new_infections = beta * S[t - 1] * I[t - 1] / N_total\n",
    "            new_recoveries = gamma * I[t - 1]\n",
    "\n",
    "            S[t] = S[t - 1] - new_infections\n",
    "            I[t] = I[t - 1] + new_infections - new_recoveries\n",
    "            R[t] = R[t - 1] + new_recoveries\n",
    "\n",
    "        num_bins = max(1, self.T // 10 + 1)\n",
    "        # Subsample the data, only keep a subset of the infection data\n",
    "        I_subsampled = I[::num_bins]  # Subsampling every `num_bins` steps\n",
    "\n",
    "        I_subsampled = torch.where(I_subsampled < 0, torch.zeros_like(I_subsampled), I_subsampled)\n",
    "        I_subsampled = torch.where(torch.isnan(I_subsampled), torch.zeros_like(I_subsampled), I_subsampled)\n",
    "\n",
    "        I_sampled = Binomial(self.total_count, I_subsampled / N_total).sample()\n",
    "\n",
    "        X = I_sampled / 1000\n",
    "\n",
    "        return X"
   ]
  },
  {
   "cell_type": "code",
   "execution_count": 4,
   "id": "baa709bb-7b53-42d6-ab82-0135d0a8e97d",
   "metadata": {},
   "outputs": [],
   "source": [
    "path = \"results/sir/\"\n",
    "cfg_twoway, model_twoway = load_config_and_model(path=path, ckpt_name=\"ckpt_1.tar\")"
   ]
  },
  {
   "cell_type": "code",
   "execution_count": 5,
   "id": "60b7b555-0847-4546-98c7-89e7ac92c677",
   "metadata": {},
   "outputs": [],
   "source": [
    "batch_size = 20\n",
    "dataset = SIR(x_file=\"data/x_sir_10000.pt\",\n",
    "              theta_file=\"data/theta_sir_10000.pt\",\n",
    "              order=\"fixed\",\n",
    "              batch_size=batch_size)\n",
    "\n",
    "num_ctx_for_ppd = 5\n",
    "\n",
    "# define sampler\n",
    "sampler = Sampler_base(problem=dataset, \n",
    "                       batch_size=batch_size,\n",
    "                       num_ctx=10,\n",
    "                       num_latent=2, \n",
    "                       min_num_points=num_ctx_for_ppd, \n",
    "                       max_num_points=num_ctx_for_ppd+1,\n",
    "                       n_total_points=12,\n",
    "                       ctx_tar_sampler=\"predict_latents_fixed\")\n",
    "\n",
    "eval_set = sampler.sample()"
   ]
  },
  {
   "cell_type": "code",
   "execution_count": 6,
   "id": "2304c1e4-1c56-4983-8eb8-7a3ec1644063",
   "metadata": {},
   "outputs": [
    {
     "data": {
      "image/png": "[encoded data removed]",
      "text/plain": [
       "<Figure size 250x250 with 1 Axes>"
      ]
     },
     "metadata": {},
     "output_type": "display_data"
    }
   ],
   "source": [
    "seed = 2\n",
    "plt.plot(eval_set.xc[seed, :, 1], eval_set.yc[seed, :, 0] )\n",
    "plt.show()"
   ]
  },
  {
   "cell_type": "markdown",
   "id": "8a774426-1dbd-4025-a7dd-f3daa959ae5d",
   "metadata": {},
   "source": [
    "# Final evaluation"
   ]
  },
  {
   "cell_type": "code",
   "execution_count": 20,
   "id": "7c496b30-08e1-4b85-81d4-16c2837ddf54",
   "metadata": {},
   "outputs": [
    {
     "name": "stdout",
     "output_type": "stream",
     "text": [
      " Training neural network. Epochs trained: 101"
     ]
    }
   ],
   "source": [
    "x_npe = torch.load(\"data/x_sir_10000.pt\")\n",
    "theta_npe = torch.load(\"data/theta_sir_10000.pt\")\n",
    "\n",
    "simulator = SIR_npe()\n",
    "prior = simulator.prior\n",
    "prior, *_ = process_prior(prior)\n",
    "\n",
    "# train 5 NPE\n",
    "posterior_npe = []\n",
    "for seed in range(1):\n",
    "    posterior_npe.append(train_npe(prior, theta_npe, x_npe))\n",
    "\n",
    "# train 5 NRE\n",
    "posterior_nre = []\n",
    "for seed in range(5):\n",
    "    posterior_nre.append(train_nre(prior, theta_npe, x_npe))\n",
    "\n",
    "# save trained NPE and NRE\n",
    "save_dir = \"data/npe_posteriors_sir\"\n",
    "for i, posterior in enumerate(posterior_npe):\n",
    "    save_path = os.path.join(save_dir, f\"posterior_npe_{i}.pkl\")\n",
    "    with open(save_path, \"wb\") as handle:\n",
    "        pickle.dump(posterior, handle)\n",
    "\n",
    "save_dir = \"data/nre_posteriors_sir\"\n",
    "for i, posterior in enumerate(posterior_nre):\n",
    "    save_path = os.path.join(save_dir, f\"posterior_nre_{i}.pkl\")\n",
    "    with open(save_path, \"wb\") as handle:\n",
    "        pickle.dump(posterior, handle)"
   ]
  },
  {
   "cell_type": "code",
   "execution_count": 7,
   "id": "8c363205-e3d9-495e-bdd5-ebe0e9f6df19",
   "metadata": {},
   "outputs": [],
   "source": [
    "# load trained NPE and NRE\n",
    "save_dir = \"data/npe_posteriors_sir\"\n",
    "posterior_npe = []\n",
    "for i in range(5):\n",
    "    load_path = os.path.join(save_dir, f\"posterior_npe_{i}.pkl\")\n",
    "    with open(load_path, \"rb\") as handle:\n",
    "        posterior_npe.append(pickle.load(handle))\n",
    "\n",
    "save_dir = \"data/nre_posteriors_sir\"\n",
    "posterior_nre = []\n",
    "for i in range(5):\n",
    "    load_path = os.path.join(save_dir, f\"posterior_nre_{i}.pkl\")\n",
    "    with open(load_path, \"rb\") as handle:\n",
    "        posterior_nre.append(pickle.load(handle))"
   ]
  },
  {
   "cell_type": "markdown",
   "id": "97299328-697d-468d-9abb-d1182bf00fae",
   "metadata": {},
   "source": [
    "## Evaluation of latents"
   ]
  },
  {
   "cell_type": "code",
   "execution_count": 8,
   "id": "5d6080a0-a109-4821-8692-bd62fdc4f0f1",
   "metadata": {},
   "outputs": [],
   "source": [
    "n_runs = 5\n",
    "batch_size = 100\n",
    "dataset = SIROnlineAll(order=\"fixed\")\n",
    "\n",
    "num_ctx_for_ppd = 5\n",
    "\n",
    "# define sampler\n",
    "sampler_joint = Sampler(problem=dataset, \n",
    "                        batch_size=batch_size,\n",
    "                        num_latent=2, \n",
    "                        min_num_points=num_ctx_for_ppd, \n",
    "                        max_num_points=num_ctx_for_ppd+1)\n",
    "\n",
    "eval_set_oneway, eval_set_twoway, eval_set_pi_twoway_narrow, eval_set_pi_twoway_wide = sampler_joint.sample_all_bin()"
   ]
  },
  {
   "cell_type": "code",
   "execution_count": 87,
   "id": "321de335-b248-4b05-abc1-4ddcd7950d77",
   "metadata": {},
   "outputs": [],
   "source": [
    "# save eval sets for posterior inference\n",
    "data_dir = \"data/eval_sets_sir\"\n",
    "\n",
    "torch.save(eval_set_oneway, os.path.join(data_dir, \"eval_set_oneway.pt\"))\n",
    "torch.save(eval_set_twoway, os.path.join(data_dir, \"eval_set_twoway.pt\"))\n",
    "torch.save(eval_set_pi_twoway_narrow, os.path.join(data_dir, \"eval_set_pi_twoway_narrow.pt\"))\n",
    "torch.save(eval_set_pi_twoway_wide, os.path.join(data_dir, \"eval_set_pi_twoway_wide.pt\"))"
   ]
  },
  {
   "cell_type": "code",
   "execution_count": 9,
   "id": "12cecba1-caa3-40d6-aff3-bc51871ff42f",
   "metadata": {},
   "outputs": [],
   "source": [
    "# load eval sets for posterior inference\n",
    "data_dir = \"data/eval_sets_sir\"\n",
    "\n",
    "eval_set_oneway = torch.load(os.path.join(data_dir, \"eval_set_oneway.pt\"))\n",
    "eval_set_twoway = torch.load(os.path.join(data_dir, \"eval_set_twoway.pt\"))\n",
    "eval_set_pi_twoway_narrow = torch.load(os.path.join(data_dir, \"eval_set_pi_twoway_narrow.pt\"))\n",
    "eval_set_pi_twoway_wide = torch.load(os.path.join(data_dir, \"eval_set_pi_twoway_wide.pt\"))"
   ]
  },
  {
   "cell_type": "code",
   "execution_count": 10,
   "id": "a5e3714c-a676-40b7-9603-4649c74c71aa",
   "metadata": {},
   "outputs": [
    {
     "name": "stdout",
     "output_type": "stream",
     "text": [
      "NPE Log probs mean: 6.52683687210083\n",
      "NPE Log probs std: 0.1067903460604361\n",
      "NPE RMSE mean: 0.02395510785281658\n",
      "NPE RMSE std: 0.0005961892939571067\n"
     ]
    }
   ],
   "source": [
    "n_runs = 5\n",
    "\n",
    "# go first with NPE as it takes some time\n",
    "all_log_probs_npe = np.zeros(5)\n",
    "all_rmse_npe = np.zeros(5)\n",
    "\n",
    "for seed in range(n_runs):\n",
    "    \n",
    "    log_probs_npe = torch.zeros([batch_size])\n",
    "    for i in range(batch_size):\n",
    "        log_probs_npe[i] = posterior_npe[seed].log_prob(theta=eval_set_oneway.yt[i].reshape(-1, 2), x=eval_set_oneway.yc[i].reshape(-1, 10))\n",
    "    all_log_probs_npe[seed] = log_probs_npe.mean().numpy()\n",
    "\n",
    "    rmse_npe = torch.zeros([batch_size])\n",
    "    samples_npe_all = torch.empty([batch_size, 2, 200])\n",
    "    for i in range(batch_size):\n",
    "        samples_npe_all[i] = posterior_npe[seed].sample((200,), x=eval_set_oneway.yc[i].reshape(-1, 10), show_progress_bars=False).T\n",
    "    all_rmse_npe[seed] = RMSE(eval_set_oneway.yt, samples_npe_all)\n",
    "\n",
    "print(f\"NPE Log probs mean: {all_log_probs_npe.mean().item()}\")\n",
    "print(f\"NPE Log probs std: {all_log_probs_npe.std().item()}\")\n",
    "\n",
    "print(f\"NPE RMSE mean: {all_rmse_npe.mean().item()}\")\n",
    "print(f\"NPE RMSE std: {all_rmse_npe.std().item()}\")"
   ]
  },
  {
   "cell_type": "code",
   "execution_count": 12,
   "id": "c24ebbc0-2b4e-4372-9f0a-6a95f1c5c623",
   "metadata": {},
   "outputs": [
    {
     "name": "stdout",
     "output_type": "stream",
     "text": [
      "NRE Log probs mean: 6.2398193359375\n",
      "NRE Log probs std: 0.1613214124891001\n",
      "NRE RMSE mean: 0.030018803477287293\n",
      "NRE RMSE std: 0.0030554746456341753\n"
     ]
    }
   ],
   "source": [
    "n_runs = 5\n",
    "\n",
    "# go first with NRE as it takes some time\n",
    "all_log_probs_nre = np.zeros(5)\n",
    "all_rmse_nre = np.zeros(5)\n",
    "\n",
    "for seed in range(n_runs):\n",
    "    \n",
    "    log_probs_nre = torch.zeros([batch_size])\n",
    "    for i in range(batch_size):\n",
    "        log_probs_nre[i] = posterior_nre[seed].log_prob(theta=eval_set_oneway.yt[i].reshape(-1, 2), x=eval_set_oneway.yc[i].reshape(-1, 10))\n",
    "    all_log_probs_nre[seed] = log_probs_nre.mean().numpy()\n",
    "\n",
    "    rmse_npe = torch.zeros([batch_size])\n",
    "    samples_nre_all = torch.empty([batch_size, 2, 100])\n",
    "    for i in range(batch_size):\n",
    "        samples_nre_all[i] = posterior_nre[seed].sample((100,), x=eval_set_oneway.yc[i].reshape(-1, 10), show_progress_bars=False).T\n",
    "    all_rmse_nre[seed] = RMSE(eval_set_oneway.yt, samples_nre_all)\n",
    "\n",
    "print(f\"NRE Log probs mean: {all_log_probs_nre.mean().item()}\")\n",
    "print(f\"NRE Log probs std: {all_log_probs_nre.std().item()}\")\n",
    "\n",
    "print(f\"NRE RMSE mean: {all_rmse_nre.mean().item()}\")\n",
    "print(f\"NRE RMSE std: {all_rmse_nre.std().item()}\")"
   ]
  },
  {
   "cell_type": "code",
   "execution_count": 11,
   "id": "293aa601-931f-4d52-a113-530faa52522a",
   "metadata": {},
   "outputs": [
    {
     "name": "stdout",
     "output_type": "stream",
     "text": [
      "ACE Log probs mean: 6.77625732421875\n",
      "ACE Log probs std: 0.015664397391029844\n",
      "ACE RMSE mean: 0.0208793543279171\n",
      "ACE RMSE std: 0.00019869876860787347\n",
      "ACE PI wide Log probs mean: 6.615552234649658\n",
      "ACE PI wide Log probs std: 0.09752091411045581\n",
      "ACE PI wide RMSE mean: 0.020752278715372087\n",
      "ACE PI wide RMSE std: 0.0006810734078813655\n",
      "ACE PI narrow Log probs mean: 6.691895771026611\n",
      "ACE PI narrow Log probs std: 0.10288250544332034\n",
      "ACE PI narrow RMSE mean: 0.01893892027437687\n",
      "ACE PI narrow RMSE std: 0.0006975083339999629\n"
     ]
    }
   ],
   "source": [
    "all_log_probs_ace = np.zeros(5)\n",
    "all_log_probs_ace_pi_narrow = np.zeros(5)\n",
    "all_log_probs_ace_pi_wide = np.zeros(5)\n",
    "\n",
    "all_rmse_ace= np.zeros(5)\n",
    "all_rmse_ace_pi_narrow = np.zeros(5)\n",
    "all_rmse_ace_pi_wide = np.zeros(5)\n",
    "\n",
    "for seed in range(n_runs):\n",
    "    # two way baseline\n",
    "    path = \"results/sir/\"\n",
    "    cfg_twoway, model_twoway = load_config_and_model(path, \"config.yaml\", f\"ckpt_{seed+1}.tar\")\n",
    "    out_twoway = model_twoway.forward(eval_set_twoway, predict=True)\n",
    "    samples_twoway = out_twoway.samples\n",
    "    log_probs_twoway = -out_twoway.losses.sum(dim=-1)\n",
    "    all_log_probs_ace[seed] = log_probs_twoway.mean().detach().numpy()\n",
    "    all_rmse_ace[seed] = RMSE(eval_set_oneway.yt, samples_twoway)\n",
    "    \n",
    "    \n",
    "    # two way prior injection narrow\n",
    "    path = \"results/sir_pi/\"\n",
    "    cfg_twoway_pi, model_twoway_pi = load_config_and_model(path, \"config.yaml\", f\"ckpt_{seed+1}.tar\")\n",
    "    out_twoway_pi_narrow = model_twoway_pi.forward(eval_set_pi_twoway_narrow, predict=True)\n",
    "    samples_twoway_pi_narrow = out_twoway_pi_narrow.samples\n",
    "    log_probs_twoway_pi_narrow = -out_twoway_pi_narrow.losses.sum(dim=-1)\n",
    "    all_log_probs_ace_pi_narrow[seed] = log_probs_twoway_pi_narrow.mean().detach().numpy()\n",
    "    all_rmse_ace_pi_narrow[seed] = RMSE(eval_set_oneway.yt, samples_twoway_pi_narrow)\n",
    "\n",
    "    # two way prior injection wide\n",
    "    out_twoway_pi_wide = model_twoway_pi.forward(eval_set_pi_twoway_wide, predict=True)\n",
    "    samples_twoway_pi_wide = out_twoway_pi_wide.samples\n",
    "    log_probs_twoway_pi_wide = -out_twoway_pi_wide.losses.sum(dim=-1)\n",
    "    all_log_probs_ace_pi_wide[seed] = log_probs_twoway_pi_wide.mean().detach().numpy()\n",
    "    all_rmse_ace_pi_wide[seed] = RMSE(eval_set_oneway.yt, samples_twoway_pi_wide)\n",
    "\n",
    "print(f\"ACE Log probs mean: {all_log_probs_ace.mean().item()}\")\n",
    "print(f\"ACE Log probs std: {all_log_probs_ace.std().item()}\")\n",
    "print(f\"ACE RMSE mean: {all_rmse_ace.mean().item()}\")\n",
    "print(f\"ACE RMSE std: {all_rmse_ace.std().item()}\")\n",
    "\n",
    "print(f\"ACE PI wide Log probs mean: {all_log_probs_ace_pi_wide.mean().item()}\")\n",
    "print(f\"ACE PI wide Log probs std: {all_log_probs_ace_pi_wide.std().item()}\")\n",
    "print(f\"ACE PI wide RMSE mean: {all_rmse_ace_pi_wide.mean().item()}\")\n",
    "print(f\"ACE PI wide RMSE std: {all_rmse_ace_pi_wide.std().item()}\")\n",
    "\n",
    "print(f\"ACE PI narrow Log probs mean: {all_log_probs_ace_pi_narrow.mean().item()}\")\n",
    "print(f\"ACE PI narrow Log probs std: {all_log_probs_ace_pi_narrow.std().item()}\")\n",
    "print(f\"ACE PI narrow RMSE mean: {all_rmse_ace_pi_narrow.mean().item()}\")\n",
    "print(f\"ACE PI narrow RMSE std: {all_rmse_ace_pi_narrow.std().item()}\")"
   ]
  },
  {
   "cell_type": "code",
   "execution_count": 14,
   "id": "036efa30-07be-4496-834c-7eb3b5b624c0",
   "metadata": {},
   "outputs": [
    {
     "name": "stdout",
     "output_type": "stream",
     "text": [
      "ACE Log probs mean: 6.815367221832275\n",
      "ACE Log probs std: 0.02252022626129036\n",
      "ACE RMSE mean: 0.020190023258328436\n",
      "ACE RMSE std: 0.00014964938430371455\n"
     ]
    }
   ],
   "source": [
    "n_runs=5\n",
    "\n",
    "all_log_probs_ace = np.zeros(5)\n",
    "\n",
    "all_rmse_ace= np.zeros(5)\n",
    "\n",
    "for seed in range(n_runs):\n",
    "    # two way baseline\n",
    "    path = \"results/sir_gaussian_head/\"\n",
    "    cfg_twoway, model_twoway = load_config_and_model(path, \"config.yaml\", f\"ckpt_{seed+1}.tar\")\n",
    "    out_twoway = model_twoway.forward(eval_set_twoway, predict=True)\n",
    "    samples_twoway = out_twoway.samples.squeeze(-1)\n",
    "    log_probs_twoway = -out_twoway.losses.sum(dim=-1)\n",
    "    all_log_probs_ace[seed] = log_probs_twoway.mean().detach().numpy()\n",
    "    all_rmse_ace[seed] = RMSE(eval_set_oneway.yt, samples_twoway)\n",
    "\n",
    "print(f\"ACE Log probs mean: {all_log_probs_ace.mean().item()}\")\n",
    "print(f\"ACE Log probs std: {all_log_probs_ace.std().item()}\")\n",
    "print(f\"ACE RMSE mean: {all_rmse_ace.mean().item()}\")\n",
    "print(f\"ACE RMSE std: {all_rmse_ace.std().item()}\")"
   ]
  },
  {
   "cell_type": "markdown",
   "id": "f87b0d83-decb-41b8-8948-286baa69d119",
   "metadata": {},
   "source": [
    "## Evaluation of data"
   ]
  },
  {
   "cell_type": "code",
   "execution_count": 15,
   "id": "eac6b01f-1f51-4345-9aed-d308e88cba81",
   "metadata": {},
   "outputs": [],
   "source": [
    "sampling_way = 3\n",
    "eval_set_ppd, eval_set_ppd_pi_narrow, eval_set_ppd_pi_wide = sampler_joint.sample_ppd(sampling_way, know_theta=False)"
   ]
  },
  {
   "cell_type": "code",
   "execution_count": 80,
   "id": "2dc79787-afd4-49a8-ab08-3f4d116676f4",
   "metadata": {},
   "outputs": [],
   "source": [
    "# save eval sets for data prediction\n",
    "data_dir = \"data/eval_sets_ppd_sir\"\n",
    "\n",
    "torch.save(eval_set_ppd, os.path.join(data_dir, \"eval_set_ppd.pt\"))\n",
    "torch.save(eval_set_ppd_pi_narrow, os.path.join(data_dir, \"eval_set_ppd_pi_narrow.pt\"))\n",
    "torch.save(eval_set_ppd_pi_wide, os.path.join(data_dir, \"eval_set_ppd_pi_wide.pt\"))"
   ]
  },
  {
   "cell_type": "code",
   "execution_count": 16,
   "id": "b7592959-7863-4b6d-a2d4-25abe2ef5b76",
   "metadata": {},
   "outputs": [],
   "source": [
    "# load eval sets for posterior inference\n",
    "data_dir = \"data/eval_sets_ppd_sir\"\n",
    "\n",
    "eval_set_ppd = torch.load(os.path.join(data_dir, \"eval_set_ppd.pt\"))\n",
    "eval_set_ppd_pi_narrow = torch.load(os.path.join(data_dir, \"eval_set_ppd_pi_narrow.pt\"))\n",
    "eval_set_ppd_pi_wide = torch.load(os.path.join(data_dir, \"eval_set_ppd_pi_wide.pt\"))"
   ]
  },
  {
   "cell_type": "code",
   "execution_count": 17,
   "id": "5404fbfd-5f9f-4fe7-aa3d-cc80188fcd18",
   "metadata": {},
   "outputs": [
    {
     "name": "stdout",
     "output_type": "stream",
     "text": [
      "ACE-2 PPD MMD mean: 0.021445966482162477\n",
      "ACE-2 PPD MMD std: 0.002784674995888478\n",
      "ACE-2 PPD PI wide MMD mean: 0.016392988085746768\n",
      "ACE-2 PPD PI wide MMD std: 0.0010298195598768664\n",
      "ACE-2 PPD PI narrow MMD mean: 0.0001823153495788574\n",
      "ACE-2 PPD PI narrow MMD std: 2.3142080723829608e-05\n"
     ]
    }
   ],
   "source": [
    "all_mmd_ppd_ace = np.zeros(5)\n",
    "all_mmd_ppd_ace_pi_narrow = np.zeros(5)\n",
    "all_mmd_ppd_ace_pi_wide = np.zeros(5)\n",
    "\n",
    "for seed in range(n_runs):\n",
    "    # two way baseline\n",
    "    path = \"results/sir/\"\n",
    "    cfg_twoway, model_twoway = load_config_and_model(path, \"config.yaml\", f\"ckpt_{seed+1}.tar\")\n",
    "    out_ppd_twoway = model_twoway.forward(eval_set_ppd, predict=True)\n",
    "    samples_ppd_twoway = out_ppd_twoway.samples\n",
    "    mmd = 0\n",
    "    for i in range(batch_size):\n",
    "        mmd += float(MMD_unweighted(samples_ppd_twoway[i].T, eval_set_ppd.yt[i].T, lengthscale=1))\n",
    "    all_mmd_ppd_ace[seed] = mmd / batch_size\n",
    "\n",
    "    # two way prior injection narrow\n",
    "    path = \"results/sir_pi/\"\n",
    "    cfg_twoway_pi, model_twoway_pi = load_config_and_model(path, \"config.yaml\", f\"ckpt_{seed+1}.tar\")\n",
    "    out_ppd_twoway_pi_narrow = model_twoway_pi.forward(eval_set_ppd_pi_narrow, predict=True)\n",
    "    samples_ppd_pi_twoway_narrow = out_ppd_twoway_pi_narrow.samples\n",
    "    mmd = 0\n",
    "    for i in range(batch_size):\n",
    "       mmd += float(MMD_unweighted(samples_ppd_pi_twoway_narrow[i, :-2, :].T, eval_set_ppd_pi_narrow.yt[i, :-2, :].T, lengthscale=1))\n",
    "    all_mmd_ppd_ace_pi_narrow[seed] = mmd / batch_size\n",
    "\n",
    "    # two way prior injection wide\n",
    "    out_ppd_twoway_pi_wide = model_twoway_pi.forward(eval_set_ppd_pi_wide, predict=True)\n",
    "    samples_ppd_pi_twoway_wide = out_ppd_twoway_pi_wide.samples\n",
    "    mmd = 0\n",
    "    for i in range(batch_size):\n",
    "       mmd += float(MMD_unweighted(samples_ppd_pi_twoway_wide[i, :-2, :].T, eval_set_ppd_pi_wide.yt[i, :-2, :].T, lengthscale=1))\n",
    "    all_mmd_ppd_ace_pi_wide[seed] = mmd / batch_size\n",
    "\n",
    "print(f\"ACE-2 PPD MMD mean: {all_mmd_ppd_ace.mean().item()}\")\n",
    "print(f\"ACE-2 PPD MMD std: {all_mmd_ppd_ace.std().item()}\")\n",
    "\n",
    "print(f\"ACE-2 PPD PI wide MMD mean: {all_mmd_ppd_ace_pi_wide.mean().item()}\")\n",
    "print(f\"ACE-2 PPD PI wide MMD std: {all_mmd_ppd_ace_pi_wide.std().item()}\")\n",
    "\n",
    "print(f\"ACE-2 PPD PI narrow MMD mean: {all_mmd_ppd_ace_pi_narrow.mean().item()}\")\n",
    "print(f\"ACE-2 PPD PI narrow MMD std: {all_mmd_ppd_ace_pi_narrow.std().item()}\")"
   ]
  },
  {
   "cell_type": "code",
   "execution_count": 18,
   "id": "6bfdb3b5-e4e7-404e-a477-20c06c75c7cb",
   "metadata": {},
   "outputs": [
    {
     "name": "stdout",
     "output_type": "stream",
     "text": [
      "ACE-2 PPD MMD mean: 0.021102903842926027\n",
      "ACE-2 PPD MMD std: 0.00351557954746998\n"
     ]
    }
   ],
   "source": [
    "all_mmd_ppd_ace = np.zeros(5)\n",
    "\n",
    "for seed in range(n_runs):\n",
    "    # two way baseline\n",
    "    path = \"results/sir_gaussian_head/\"\n",
    "    cfg_twoway, model_twoway = load_config_and_model(path, \"config.yaml\", f\"ckpt_{seed+1}.tar\")\n",
    "    out_ppd_twoway = model_twoway.forward(eval_set_ppd, predict=True)\n",
    "    samples_ppd_twoway = out_ppd_twoway.samples.squeeze(-1)\n",
    "    mmd = 0\n",
    "    for i in range(batch_size):\n",
    "        mmd += float(MMD_unweighted(samples_ppd_twoway[i].T, eval_set_ppd.yt[i].T, lengthscale=1))\n",
    "    all_mmd_ppd_ace[seed] = mmd / batch_size\n",
    "\n",
    "print(f\"ACE-2 PPD MMD mean: {all_mmd_ppd_ace.mean().item()}\")\n",
    "print(f\"ACE-2 PPD MMD std: {all_mmd_ppd_ace.std().item()}\")"
   ]
  },
  {
   "cell_type": "code",
   "execution_count": 83,
   "id": "a8de1517-017c-4c04-8a2a-a91df96ad40e",
   "metadata": {},
   "outputs": [],
   "source": [
    "torch.save(all_log_probs_npe, \"results/metrics/sir_log_probs_npe.npy\")\n",
    "torch.save(all_log_probs_nre, \"results/metrics/sir_log_probs_nre.npy\")\n",
    "torch.save(all_log_probs_ace, \"results/metrics/sir_log_probs_ace.npy\")\n",
    "torch.save(all_log_probs_ace_pi_narrow, \"results/metrics/sir_log_probs_ace_narrow.npy\")\n",
    "torch.save(all_log_probs_ace_pi_wide, \"results/metrics/sir_log_probs_ace_wide.npy\")\n",
    "\n",
    "torch.save(all_rmse_npe, \"results/metrics/sir_rmse_npe.npy\")\n",
    "torch.save(all_rmse_nre, \"results/metrics/sir_rmse_nre.npy\")\n",
    "torch.save(all_rmse_ace, \"results/metrics/sir_rmse_ace.npy\")\n",
    "torch.save(all_rmse_ace_pi_narrow, \"results/metrics/sir_rmse_ace_narrow.npy\")\n",
    "torch.save(all_rmse_ace_pi_wide, \"results/metrics/sir_rmse_ace_wide.npy\")\n",
    "\n",
    "torch.save(all_mmd_ppd_ace, \"results/metrics/sir_mmd_ace.npy\")\n",
    "torch.save(all_mmd_ppd_ace_pi_narrow, \"results/metrics/sir_mmd_ace_narrow.npy\")\n",
    "torch.save(all_mmd_ppd_ace_pi_wide, \"results/metrics/sir_mmd_ace_wide.npy\")"
   ]
  }
 ],
 "metadata": {
  "kernelspec": {
   "display_name": "Python [conda env:ace]",
   "language": "python",
   "name": "conda-env-ace-py"
  },
  "language_info": {
   "codemirror_mode": {
    "name": "ipython",
    "version": 3
   },
   "file_extension": ".py",
   "mimetype": "text/x-python",
   "name": "python",
   "nbconvert_exporter": "python",
   "pygments_lexer": "ipython3",
   "version": "3.9.19"
  }
 },
 "nbformat": 4,
 "nbformat_minor": 5
}
