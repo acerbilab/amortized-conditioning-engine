{
 "cells": [
  {
   "cell_type": "markdown",
   "metadata": {},
   "source": [
    "# <a id='toc1_'></a>[MNIST image completion with ACE](#toc0_)\n",
    "\n",
    "\n"
   ]
  },
  {
   "cell_type": "markdown",
   "metadata": {},
   "source": [
    "**Table of contents**<a id='toc0_'></a>    \n",
    "- [MNIST image completion with ACE](#toc1_)    \n",
    "  - [Notebook description](#toc1_1_)    \n",
    "  - [Imports](#toc1_2_)    \n",
    "  - [Preparation](#toc1_3_)    \n",
    "    - [Load the trained model and config](#toc1_3_1_)    \n",
    "    - [Number of context points and the index of the image to plot](#toc1_3_2_)    \n",
    "    - [Functions to build batch and generate images](#toc1_3_3_)    \n",
    "  - [Running ACE on MNIST image completion task](#toc1_4_)    \n",
    "    - [Generate data for a batch](#toc1_4_1_)    \n",
    "    - [Build batch both with and without latents](#toc1_4_2_)    \n",
    "    - [Plot the predictions for both cases](#toc1_4_3_)    \n",
    "\n",
    "<!-- vscode-jupyter-toc-config\n",
    "\tnumbering=false\n",
    "\tanchor=true\n",
    "\tflat=false\n",
    "\tminLevel=1\n",
    "\tmaxLevel=6\n",
    "\t/vscode-jupyter-toc-config -->\n",
    "<!-- THIS CELL WILL BE REPLACED ON TOC UPDATE. DO NOT WRITE YOUR TEXT IN THIS CELL -->"
   ]
  },
  {
   "cell_type": "markdown",
   "metadata": {},
   "source": [
    "## <a id='toc1_1_'></a>[Notebook description](#toc0_)\n",
    "\n",
    "In this notebook, we will demonstrate the capabilities of the Amortized Conditioning Engine (ACE) for image completion tasks on the MNIST dataset. The task is to generate the rest of an image given some context points. Since ACE can condition on latent variables (in this case, the class label), we will compare the following two cases:\n",
    "1. No class conditioning\n",
    "2. With class conditioning"
   ]
  },
  {
   "cell_type": "markdown",
   "metadata": {},
   "source": [
    "## <a id='toc1_2_'></a>[Imports](#toc0_)\n",
    "\n"
   ]
  },
  {
   "cell_type": "code",
   "execution_count": 1,
   "metadata": {},
   "outputs": [],
   "source": [
    "import matplotlib.pyplot as plt\n",
    "import numpy as np\n",
    "import numpy as np\n",
    "import torch\n",
    "import copy\n",
    "from src.model.utils import AttrDict\n",
    "from src.dataset.latents.image_no_np import Image\n",
    "import matplotlib.pyplot as plt\n",
    "from bo_demo_utils import load_config_and_model\n",
    "import warnings\n",
    "warnings.filterwarnings('ignore')\n",
    "\n",
    "# Load the trained model and config\n",
    "path = \"model/mnist/\"\n",
    "config_path = path+\".hydra/\"\n"
   ]
  },
  {
   "cell_type": "markdown",
   "metadata": {},
   "source": [
    "## <a id='toc1_3_'></a>[Preparation](#toc0_)"
   ]
  },
  {
   "cell_type": "markdown",
   "metadata": {},
   "source": [
    "### <a id='toc1_3_1_'></a>[Load the trained model and config](#toc0_)"
   ]
  },
  {
   "cell_type": "code",
   "execution_count": 2,
   "metadata": {},
   "outputs": [],
   "source": [
    "\n",
    "torch.manual_seed(45)\n",
    "\n",
    "# Load ACE model and config\n",
    "cfg, model = load_config_and_model(path, path + \".hydra/\", \n",
    "                                   ckpt_name=\"ckpt_140000.tar\")"
   ]
  },
  {
   "cell_type": "markdown",
   "metadata": {},
   "source": [
    "### <a id='toc1_3_2_'></a>[Number of context points and the index of the image to plot](#toc0_)"
   ]
  },
  {
   "cell_type": "code",
   "execution_count": 3,
   "metadata": {},
   "outputs": [],
   "source": [
    "ind = 7\n",
    "num_ctx = 10"
   ]
  },
  {
   "cell_type": "markdown",
   "metadata": {},
   "source": [
    "### <a id='toc1_3_3_'></a>[Functions to build batch and generate images](#toc0_)"
   ]
  },
  {
   "cell_type": "markdown",
   "metadata": {},
   "source": [
    "In this notebook, we define two functions we need to do the image completion task.\n",
    "\n",
    "The first function, `build_batch`, takes data points `b_xyd`, latents `b_xyl`, and the number of context points `num_ctx` as inputs. It returns two context-target sets: one without latents and the other with latents, both containing the specified `num_ctx`.\n",
    "\n",
    "The second function, `generate_image`, is our main function. Given a pair of context-target sets, it predicts the target points (pixels to fill) and visualizes the results."
   ]
  },
  {
   "cell_type": "code",
   "execution_count": 4,
   "metadata": {},
   "outputs": [],
   "source": [
    "def build_batch(b_xyd, b_xyl, num_ctx):\n",
    "    \"\"\"\n",
    "    Construct batches for context and target points from input data and latents.\n",
    "\n",
    "    Parameters:\n",
    "    -----------\n",
    "    b_xyd : torch.Tensor\n",
    "        Batch of input data containing x, y coordinates and density values.\n",
    "        Shape: [batch_size, num_points, 4]\n",
    "    b_xyl : torch.Tensor\n",
    "        Batch of latent representations.\n",
    "        Shape: [batch_size, num_latent_points, 4]\n",
    "    num_ctx : int\n",
    "        Number of context points to use from the input data.\n",
    "\n",
    "    Returns:\n",
    "    --------\n",
    "    batch : AttrDict\n",
    "        Batch dictionary containing context and target points without latents.\n",
    "    batch_l : AttrDict\n",
    "        Batch dictionary containing context and target points with latents.\n",
    "    \"\"\"\n",
    "\n",
    "    xyc = b_xyd[:, :num_ctx, :]\n",
    "    xyt = b_xyd[:, num_ctx:, :] \n",
    "\n",
    "    batch = AttrDict() \n",
    "    batch.xc = copy.deepcopy(xyc[:, :, :-1])\n",
    "    batch.yc = copy.deepcopy(xyc[:, :, -1:])\n",
    "\n",
    "    batch.xt = copy.deepcopy(xyt[:, :, :-1])\n",
    "    batch.yt = copy.deepcopy(xyt[:, :, -1:])\n",
    "\n",
    "    xyc_latent = torch.concat((xyc, b_xyl), dim=1)\n",
    "\n",
    "    batch_l = AttrDict({\n",
    "        'xc': xyc_latent[:, :, :-1],\n",
    "        'yc': xyc_latent[:, :, -1:],\n",
    "        'xt': xyt[:, :, :-1],\n",
    "        'yt': xyt[:, :, -1:]\n",
    "    })\n",
    "    return batch, batch_l\n",
    "\n",
    "def generate_image(batch, batch_l, ind):\n",
    "    \"\"\"\n",
    "    Visualize images based on context points and latents.\n",
    "\n",
    "    Parameters:\n",
    "    -----------\n",
    "    b_xyd : torch.Tensor\n",
    "        Batch of input data containing x, y coordinates and density values.\n",
    "        Shape: [batch_size, num_points, 4]\n",
    "    b_xyl : torch.Tensor\n",
    "        Batch of latent representations.\n",
    "        Shape: [batch_size, num_latent_points, 4]\n",
    "    ind : int\n",
    "        Index of the specific image in the batch to visualize.\n",
    "    num_ctx : int\n",
    "        Number of context points to use from the input data.\n",
    "\n",
    "    Returns:\n",
    "    --------\n",
    "    None\n",
    "    \"\"\"\n",
    "        \n",
    "\n",
    "    # First image\n",
    "    xc = (15 * batch.xc[ind, :, 1:3]).to(torch.long)\n",
    "    yc = batch.yc[ind, :, -1]\n",
    "    image_size = 16\n",
    "\n",
    "    im_context = np.zeros((image_size, image_size, 3))\n",
    "    im_context[:, :, 2] = 1\n",
    "    im_context[xc[:, 0], xc[:, 1]] = yc.repeat(3, 1).transpose(0, 1).cpu()\n",
    "\n",
    "    # Second image\n",
    "    xc = (15 * batch.xt[ind, :, 1:3]).to(torch.long)\n",
    "    yc = batch.yt[ind, :, -1]\n",
    "    im_target = np.zeros((image_size, image_size, 3))\n",
    "    im_target[:, :, 2] = 1\n",
    "    im_target[xc[:, 0], xc[:, 1]] = yc.repeat(3, 1).transpose(0, 1).cpu()\n",
    "\n",
    "    out = model.forward(batch, predict=True)\n",
    "    xc = (15 * batch.xt[ind,:, 1:3]).to(torch.long)\n",
    "    yc = out.median[ind, :]\n",
    "    image_size = 16\n",
    "\n",
    "    im_nl = np.zeros((image_size, image_size, 3))\n",
    "    im_nl[:, :, 2] = 1\n",
    "    im_nl[xc[:, 0], xc[:, 1]] = yc.repeat(3, 1).transpose(0, 1)\n",
    "\n",
    "    out = model.forward(batch_l, predict=True)\n",
    "    xc = (15 * batch.xt[ind,:, 1:3]).to(torch.long)\n",
    "    yc = out.median[ind, :]\n",
    "    image_size = 16\n",
    "\n",
    "    im_l = np.zeros((image_size, image_size, 3))\n",
    "    im_l[:, :, 2] = 1\n",
    "    im_l[xc[:, 0], xc[:, 1]] = yc.repeat(3, 1).transpose(0, 1)\n",
    "\n",
    "    # Plotting the images next to each other\n",
    "    fig, axs = plt.subplots(1, 4, figsize=(10, 5))\n",
    "\n",
    "    axs[0].imshow(im_context)\n",
    "    axs[0].axis('off')  # Remove axis labels\n",
    "    axs[0].set_title('Context Image')\n",
    "\n",
    "    axs[1].imshow(im_target)\n",
    "    axs[1].axis('off')  # Remove axis labels\n",
    "    axs[1].set_title('Target Image')\n",
    "\n",
    "    axs[2].imshow(im_nl)\n",
    "    axs[2].axis('off')  # Remove axis labels\n",
    "    axs[2].set_title('ACE no class conditioning')\n",
    "\n",
    "    axs[3].imshow(im_l)\n",
    "    axs[3].axis('off')  # Remove axis labels\n",
    "    axs[3].set_title('ACE with class conditioning')\n",
    "\n",
    "    plt.tight_layout()\n",
    "    plt.show()"
   ]
  },
  {
   "cell_type": "markdown",
   "metadata": {},
   "source": [
    "## <a id='toc1_4_'></a>[Running ACE on MNIST image completion task](#toc0_)"
   ]
  },
  {
   "cell_type": "markdown",
   "metadata": {},
   "source": [
    "### <a id='toc1_4_1_'></a>[Generate data for a batch](#toc0_)\n"
   ]
  },
  {
   "cell_type": "markdown",
   "metadata": {},
   "source": [
    "Here, we generate data points `b_xyd`(pixels, in this case) and latents `b_xyl` (MNIST labels)."
   ]
  },
  {
   "cell_type": "code",
   "execution_count": 5,
   "metadata": {},
   "outputs": [],
   "source": [
    "torch.manual_seed(45)\n",
    "\n",
    "image = Image()\n",
    "b_xyd, b_xyl = image.get_data() "
   ]
  },
  {
   "cell_type": "markdown",
   "metadata": {},
   "source": [
    "### <a id='toc1_4_2_'></a>[Build batch both with and without latents](#toc0_)"
   ]
  },
  {
   "cell_type": "markdown",
   "metadata": {},
   "source": [
    "Next, we build the context-target sets for both cases: one with latents (`batch_l`) and one without latents (`batch`)."
   ]
  },
  {
   "cell_type": "code",
   "execution_count": 6,
   "metadata": {},
   "outputs": [],
   "source": [
    "batch, batch_l = build_batch(b_xyd, b_xyl, num_ctx)"
   ]
  },
  {
   "cell_type": "markdown",
   "metadata": {},
   "source": [
    "### <a id='toc1_4_3_'></a>[Plot the predictions for both cases](#toc0_)"
   ]
  },
  {
   "cell_type": "markdown",
   "metadata": {},
   "source": [
    "Finally, we run the ACE prediction both without class conditioning and with class conditioning. Notice that the ACE prediction with conditioning provides a better result, even with a small number of context points, compared to the prediction without class conditioning."
   ]
  },
  {
   "cell_type": "code",
   "execution_count": 7,
   "metadata": {},
   "outputs": [
    {
     "name": "stderr",
     "output_type": "stream",
     "text": [
      "Clipping input data to the valid range for imshow with RGB data ([0..1] for floats or [0..255] for integers). Got range [-0.004250747617334127..1.0].\n",
      "Clipping input data to the valid range for imshow with RGB data ([0..1] for floats or [0..255] for integers). Got range [-0.004930212162435055..1.0].\n"
     ]
    },
    {
     "data": {
      "image/png": "[encoded data removed]",
      "text/plain": [
       "<Figure size 1000x500 with 4 Axes>"
      ]
     },
     "metadata": {},
     "output_type": "display_data"
    }
   ],
   "source": [
    "generate_image(batch, batch_l, ind)"
   ]
  }
 ],
 "metadata": {
  "kernelspec": {
   "display_name": "amorev-pack",
   "language": "python",
   "name": "python3"
  },
  "language_info": {
   "codemirror_mode": {
    "name": "ipython",
    "version": 3
   },
   "file_extension": ".py",
   "mimetype": "text/x-python",
   "name": "python",
   "nbconvert_exporter": "python",
   "pygments_lexer": "ipython3",
   "version": "3.9.19"
  }
 },
 "nbformat": 4,
 "nbformat_minor": 2
}
